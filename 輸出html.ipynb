{
 "cells": [
  {
   "cell_type": "code",
   "execution_count": 4,
   "metadata": {
    "ExecuteTime": {
     "end_time": "2021-03-25T02:28:54.091857Z",
     "start_time": "2021-03-25T02:28:54.086871Z"
    }
   },
   "outputs": [],
   "source": [
    "f = open(\"demo_1.html\",'w')\n",
    "message = \"\"\"\n",
    "<html>\n",
    "<head></head>\n",
    "<body>\n",
    "<p>Hello,World!</p>\n",
    "<p>demo</p>\n",
    "</body>\n",
    "</html>\"\"\"\n",
    "f.write(html)\n",
    "f.close()"
   ]
  },
  {
   "cell_type": "code",
   "execution_count": 5,
   "metadata": {
    "ExecuteTime": {
     "end_time": "2021-03-25T02:29:37.735537Z",
     "start_time": "2021-03-25T02:29:37.726583Z"
    }
   },
   "outputs": [
    {
     "ename": "NameError",
     "evalue": "name 'ref_link' is not defined",
     "output_type": "error",
     "traceback": [
      "\u001b[1;31m---------------------------------------------------------------------------\u001b[0m",
      "\u001b[1;31mNameError\u001b[0m                                 Traceback (most recent call last)",
      "\u001b[1;32m<ipython-input-5-65f74856aab6>\u001b[0m in \u001b[0;36m<module>\u001b[1;34m\u001b[0m\n\u001b[0;32m      1\u001b[0m \u001b[1;32mwith\u001b[0m \u001b[0mopen\u001b[0m\u001b[1;33m(\u001b[0m\u001b[1;34m'total.html'\u001b[0m\u001b[1;33m,\u001b[0m \u001b[1;34m'w'\u001b[0m\u001b[1;33m)\u001b[0m \u001b[1;32mas\u001b[0m \u001b[0mf\u001b[0m\u001b[1;33m:\u001b[0m\u001b[1;33m\u001b[0m\u001b[1;33m\u001b[0m\u001b[0m\n\u001b[1;32m----> 2\u001b[1;33m     \u001b[0mhtml\u001b[0m \u001b[1;33m=\u001b[0m \u001b[1;34m\"<div> <iframe scrolling='no' frameborder='0' id = 'likecoin' style='width:100%; max-width:485px; height:240px; margin:auto; overflow:hidden; display:block;' src='https://button.like.co/in/embed/champion516615/button?referrer={}' ></iframe> <div></div> </div>\"\u001b[0m\u001b[1;33m.\u001b[0m\u001b[0mformat\u001b[0m\u001b[1;33m(\u001b[0m\u001b[0mref_link\u001b[0m\u001b[1;33m)\u001b[0m\u001b[1;33m\u001b[0m\u001b[1;33m\u001b[0m\u001b[0m\n\u001b[0m\u001b[0;32m      3\u001b[0m     \u001b[0mf\u001b[0m\u001b[1;33m.\u001b[0m\u001b[0mwrite\u001b[0m\u001b[1;33m(\u001b[0m\u001b[1;33m)\u001b[0m\u001b[1;33m\u001b[0m\u001b[1;33m\u001b[0m\u001b[0m\n",
      "\u001b[1;31mNameError\u001b[0m: name 'ref_link' is not defined"
     ]
    }
   ],
   "source": [
    "with open('total.html', 'w') as f:\n",
    "    html = \"<div> <iframe scrolling='no' frameborder='0' id = 'likecoin' style='width:100%; max-width:485px; height:240px; margin:auto; overflow:hidden; display:block;' src='https://button.like.co/in/embed/champion516615/button?referrer={}' ></iframe> <div></div> </div>\".format(\"https://likecoin-2.github.io/_\")\n",
    "    f.write()"
   ]
  },
  {
   "cell_type": "code",
   "execution_count": null,
   "metadata": {},
   "outputs": [],
   "source": []
  }
 ],
 "metadata": {
  "kernelspec": {
   "display_name": "Python 3",
   "language": "python",
   "name": "python3"
  },
  "language_info": {
   "codemirror_mode": {
    "name": "ipython",
    "version": 3
   },
   "file_extension": ".py",
   "mimetype": "text/x-python",
   "name": "python",
   "nbconvert_exporter": "python",
   "pygments_lexer": "ipython3",
   "version": "3.7.3"
  }
 },
 "nbformat": 4,
 "nbformat_minor": 2
}
