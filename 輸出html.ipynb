{
 "cells": [
  {
   "cell_type": "code",
   "execution_count": 9,
   "metadata": {
    "ExecuteTime": {
     "end_time": "2021-03-25T02:33:00.363578Z",
     "start_time": "2021-03-25T02:33:00.358592Z"
    }
   },
   "outputs": [],
   "source": [
    "f = open(\"demo_1.html\",'w')\n",
    "message = \"\"\"\n",
    "<html>\n",
    "<head></head>\n",
    "<body>\n",
    "<p>Hello,World!</p>\n",
    "<p>demo</p>\n",
    "</body>\n",
    "</html>\"\"\"\n",
    "f.write(message)\n",
    "f.close()"
   ]
  },
  {
   "cell_type": "code",
   "execution_count": 10,
   "metadata": {
    "ExecuteTime": {
     "end_time": "2021-03-25T06:09:28.547436Z",
     "start_time": "2021-03-25T06:09:28.526766Z"
    }
   },
   "outputs": [],
   "source": [
    "with open('total.html', 'w') as f:\n",
    "    html = \"<div> <iframe scrolling='no' frameborder='0' id = 'likecoin' style='width:100%; max-width:100px; height:100px; margin:auto; overflow:hidden; display:block;' src='https://button.like.co/in/embed/champion516615/button?referrer={}' ></iframe> <div></div> </div>\".format(\"https://likecoin-2.github.io/demo_1.html\")\n",
    "    f.write(html)"
   ]
  },
  {
   "cell_type": "code",
   "execution_count": null,
   "metadata": {},
   "outputs": [],
   "source": []
  }
 ],
 "metadata": {
  "kernelspec": {
   "display_name": "Python 3",
   "language": "python",
   "name": "python3"
  },
  "language_info": {
   "codemirror_mode": {
    "name": "ipython",
    "version": 3
   },
   "file_extension": ".py",
   "mimetype": "text/x-python",
   "name": "python",
   "nbconvert_exporter": "python",
   "pygments_lexer": "ipython3",
   "version": "3.7.3"
  }
 },
 "nbformat": 4,
 "nbformat_minor": 2
}
