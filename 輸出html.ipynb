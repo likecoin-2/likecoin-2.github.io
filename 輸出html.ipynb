{
 "cells": [
  {
   "cell_type": "code",
   "execution_count": 17,
   "metadata": {
    "ExecuteTime": {
     "end_time": "2021-03-26T08:47:38.731663Z",
     "start_time": "2021-03-26T08:47:38.709215Z"
    }
   },
   "outputs": [],
   "source": [
    "import os\n",
    "import pickle\n",
    "\n",
    "def load_corpus_name():\n",
    "    with open('name_corpus.pickle', 'rb') as f:\n",
    "        corpus = pickle.load(f)   \n",
    "        names = corpus[:8]\n",
    "        corpus = corpus[8:]\n",
    "    with open('name_corpus.pickle', 'wb') as f:\n",
    "        pickle.dump(corpus, f)\n",
    "    return names\n",
    "\n",
    "def output_html(number, names):\n",
    "    html_name_list = []\n",
    "    for name in names:\n",
    "        for i in range(number):\n",
    "            html_name = \"{}_{}.html\".format(name, i)\n",
    "            with open(html_name,'w') as f:\n",
    "                message = \"\"\"\n",
    "                <html>\n",
    "                <head></head>\n",
    "                <body>\n",
    "                <p>Hello,World!</p>\n",
    "                <p>demo</p>\n",
    "                </body>\n",
    "                </html>\"\"\"\n",
    "                f.write(message)\n",
    "                f.close()\n",
    "            \n",
    "        html_name_list.append(html_name)\n",
    "    with open('html.pickle', 'wb') as f:\n",
    "        pickle.dump(html_name_list, f)\n",
    "\n",
    "def output_linkcoin(number, names):\n",
    "    likecoin_ids = ['hn756840', 'iddoiwjfe', 'ndnvnjknlf', 'fndslnkfd', 'sssssfsfaf', 'ds2454288', 'ds2454288', 'errrrrrrtr6']\n",
    "    for index, (name, likecoin_id) in enumerate(zip(names, likecoin_ids)):\n",
    "        total_name = 'total{}.html'.format(index)\n",
    "        with open(total_name, 'w') as f:\n",
    "            for i in range(number):\n",
    "                connect_html = \"https://likecoin-2.github.io/{}_{}.html\".format(i, name)\n",
    "                embed_id = \"likecoin{}\".format(i)\n",
    "                likecoin_embed_link = \"<div> <iframe scrolling='no' frameborder='0' id = {} style='width:100%; max-width:100px; height:100px; margin:auto; overflow:hidden; display:block; float:left;' src='https://button.like.co/in/embed/{}/button?referrer={}' ></iframe> <div></div> </div>\".format(embed_id, likecoin_id,connect_html)\n",
    "                f.write(likecoin_embed_link)\n",
    "                f.write('\\n')\n",
    "\n",
    "def remove_html():\n",
    "    with open('html.pickle', 'rb') as f:\n",
    "        html_name_list = pickle.load(f)\n",
    "    for path in html_name_list:\n",
    "        path = os.path.join('C:/Users/champ/Desktop/blog/likecoin/rgib37190.github.io-gh-pages', path)\n",
    "        os.remove(path)"
   ]
  },
  {
   "cell_type": "code",
   "execution_count": 18,
   "metadata": {
    "ExecuteTime": {
     "end_time": "2021-03-26T08:47:40.092049Z",
     "start_time": "2021-03-26T08:47:39.563504Z"
    }
   },
   "outputs": [],
   "source": [
    "names = load_corpus_name()\n",
    "output_html(84, names)\n",
    "output_linkcoin(84, names)"
   ]
  },
  {
   "cell_type": "code",
   "execution_count": null,
   "metadata": {},
   "outputs": [],
   "source": []
  }
 ],
 "metadata": {
  "kernelspec": {
   "display_name": "Python 3",
   "language": "python",
   "name": "python3"
  },
  "language_info": {
   "codemirror_mode": {
    "name": "ipython",
    "version": 3
   },
   "file_extension": ".py",
   "mimetype": "text/x-python",
   "name": "python",
   "nbconvert_exporter": "python",
   "pygments_lexer": "ipython3",
   "version": "3.7.3"
  }
 },
 "nbformat": 4,
 "nbformat_minor": 2
}
