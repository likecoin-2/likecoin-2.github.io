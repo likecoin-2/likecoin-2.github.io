{
 "cells": [
  {
   "cell_type": "code",
   "execution_count": 1,
   "metadata": {
    "ExecuteTime": {
     "end_time": "2021-03-23T01:39:17.660752Z",
     "start_time": "2021-03-23T01:39:17.656727Z"
    }
   },
   "outputs": [],
   "source": [
    "import os"
   ]
  },
  {
   "cell_type": "code",
   "execution_count": 9,
   "metadata": {
    "ExecuteTime": {
     "end_time": "2021-03-23T01:48:04.127486Z",
     "start_time": "2021-03-23T01:48:04.119507Z"
    },
    "scrolled": true
   },
   "outputs": [
    {
     "ename": "ValueError",
     "evalue": "unsupported format character '\\' (0x5c) at index 77",
     "output_type": "error",
     "traceback": [
      "\u001b[1;31m---------------------------------------------------------------------------\u001b[0m",
      "\u001b[1;31mValueError\u001b[0m                                Traceback (most recent call last)",
      "\u001b[1;32m<ipython-input-9-6031cb3b449f>\u001b[0m in \u001b[0;36m<module>\u001b[1;34m\u001b[0m\n\u001b[0;32m      2\u001b[0m \u001b[1;32mfor\u001b[0m \u001b[0mi\u001b[0m \u001b[1;32min\u001b[0m \u001b[0mrange\u001b[0m\u001b[1;33m(\u001b[0m\u001b[1;36m2\u001b[0m\u001b[1;33m,\u001b[0m \u001b[1;36m100\u001b[0m\u001b[1;33m)\u001b[0m\u001b[1;33m:\u001b[0m\u001b[1;33m\u001b[0m\u001b[1;33m\u001b[0m\u001b[0m\n\u001b[0;32m      3\u001b[0m     \u001b[0mparameter\u001b[0m \u001b[1;33m=\u001b[0m \u001b[1;34m'earn-複製-(%s)'\u001b[0m \u001b[1;33m%\u001b[0m\u001b[0mi\u001b[0m\u001b[1;33m\u001b[0m\u001b[1;33m\u001b[0m\u001b[0m\n\u001b[1;32m----> 4\u001b[1;33m     \u001b[0mprint\u001b[0m\u001b[1;33m(\u001b[0m\u001b[0mhtml\u001b[0m \u001b[1;33m%\u001b[0m \u001b[0mparameter\u001b[0m\u001b[1;33m)\u001b[0m\u001b[1;33m\u001b[0m\u001b[1;33m\u001b[0m\u001b[0m\n\u001b[0m",
      "\u001b[1;31mValueError\u001b[0m: unsupported format character '\\' (0x5c) at index 77"
     ]
    }
   ],
   "source": [
    "for i in range(1, 100):\n",
    "    parameter = 'earn-複製-(%s)' %i\n",
    "    \n",
    "    \"<div> <iframe scrolling='no' frameborder='0' id = 'likecoin' style='width:100%; max-width:485px; height:240px; margin:auto; overflow:hidden; display:block;' src='https://button.like.co/in/embed/champion516615/button?referrer={}' ></iframe> <div></div> </div>\".format('haha')"
   ]
  },
  {
   "cell_type": "code",
   "execution_count": 7,
   "metadata": {
    "ExecuteTime": {
     "end_time": "2021-03-23T01:46:04.983875Z",
     "start_time": "2021-03-23T01:46:04.978917Z"
    }
   },
   "outputs": [
    {
     "data": {
      "text/plain": [
       "\"<div><iframe scrolling='no' frameborder='0' id = 'likecoin' style='width:100%; max-width:485px; height:240px; margin:auto; overflow:hidden; display:block;' src='https://button.like.co/in/embed/champion516615/button?referrer='https://rgib37190.github.io/%E5%AE%8C%E5%85%A8%E6%94%BB%E7%95%A5pandas%E6%96%87%E6%AA%94%E6%95%99%E5%AD%B8-Indexing-and-Selecting-Data/''></iframe><div></div></div>\""
      ]
     },
     "execution_count": 7,
     "metadata": {},
     "output_type": "execute_result"
    }
   ],
   "source": [
    "html = \"<div><iframe scrolling='no' frameborder='0' id = 'likecoin' style='width:100%; max-width:485px; height:240px; margin:auto; overflow:hidden; display:block;' src='https://button.like.co/in/embed/champion516615/button?referrer='https://likecoin-2.github.io/%s/''></iframe><div></div></div>\""
   ]
  },
  {
   "cell_type": "code",
   "execution_count": 17,
   "metadata": {
    "ExecuteTime": {
     "end_time": "2021-03-23T01:58:43.276481Z",
     "start_time": "2021-03-23T01:58:43.271464Z"
    }
   },
   "outputs": [
    {
     "data": {
      "text/plain": [
       "\"<div> <iframe scrolling='no' frameborder='0' id = 'likecoin' style='width:100%; max-width:485px; height:240px; margin:auto; overflow:hidden; display:block;' src='https://button.like.co/in/embed/champion516615/button?referrer=haha' ></iframe> <div></div> </div>\""
      ]
     },
     "execution_count": 17,
     "metadata": {},
     "output_type": "execute_result"
    }
   ],
   "source": [
    "\"<div> <iframe scrolling='no' frameborder='0' id = 'likecoin' style='width:100%; max-width:485px; height:240px; margin:auto; overflow:hidden; display:block;' src='https://button.like.co/in/embed/champion516615/button?referrer={}' ></iframe> <div></div> </div>\".format('haha')"
   ]
  },
  {
   "cell_type": "code",
   "execution_count": null,
   "metadata": {},
   "outputs": [],
   "source": []
  }
 ],
 "metadata": {
  "kernelspec": {
   "display_name": "Python 3",
   "language": "python",
   "name": "python3"
  },
  "language_info": {
   "codemirror_mode": {
    "name": "ipython",
    "version": 3
   },
   "file_extension": ".py",
   "mimetype": "text/x-python",
   "name": "python",
   "nbconvert_exporter": "python",
   "pygments_lexer": "ipython3",
   "version": "3.7.3"
  }
 },
 "nbformat": 4,
 "nbformat_minor": 2
}
