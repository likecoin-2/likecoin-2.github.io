{
 "cells": [
  {
   "cell_type": "code",
   "execution_count": 49,
   "metadata": {
    "ExecuteTime": {
     "end_time": "2021-03-25T11:23:08.045861Z",
     "start_time": "2021-03-25T11:23:08.038645Z"
    }
   },
   "outputs": [],
   "source": [
    "import os\n",
    "import pickle\n",
    "def output_html(number, name):\n",
    "    html_name_list = []\n",
    "    for i in range(number):\n",
    "        html_name = \"{}_{}.html\".format(name, i)\n",
    "        with open(html_name,'w') as f:\n",
    "            message = \"\"\"\n",
    "            <html>\n",
    "            <head></head>\n",
    "            <body>\n",
    "            <p>Hello,World!</p>\n",
    "            <p>demo</p>\n",
    "            </body>\n",
    "            </html>\"\"\"\n",
    "            f.write(message)\n",
    "            f.close()\n",
    "            \n",
    "        html_name_list.append(html_name)\n",
    "    with open('html.pickle', 'wb') as f:\n",
    "        pickle.dump(html_name_list, f)\n",
    "\n",
    "def output_linkcoin(number, name):\n",
    "    with open('total.html', 'w') as f:\n",
    "        for i in range(number):\n",
    "            connect_html = \"https://likecoin-2.github.io/{}_{}.html\".format(i, name)\n",
    "            embed_id = \"likecoin{}\".format(i)\n",
    "            likecoin_embed_link = \"<div> <iframe scrolling='no' frameborder='0' id = {} style='width:100%; max-width:100px; height:100px; margin:auto; overflow:hidden; display:block; float:left;' src='https://button.like.co/in/embed/champion516615/button?referrer={}' ></iframe> <div></div> </div>\".format(embed_id, connect_html)\n",
    "            f.write(likecoin_embed_link)\n",
    "            f.write('\\n')"
   ]
  },
  {
   "cell_type": "code",
   "execution_count": 50,
   "metadata": {
    "ExecuteTime": {
     "end_time": "2021-03-25T11:23:08.552631Z",
     "start_time": "2021-03-25T11:23:08.503633Z"
    }
   },
   "outputs": [],
   "source": [
    "name = \"first_day\"\n",
    "output_html(84, name)\n",
    "output_linkcoin(84, name)"
   ]
  },
  {
   "cell_type": "code",
   "execution_count": 54,
   "metadata": {
    "ExecuteTime": {
     "end_time": "2021-03-25T11:24:06.181992Z",
     "start_time": "2021-03-25T11:24:06.176811Z"
    }
   },
   "outputs": [],
   "source": [
    "def remove_html():\n",
    "    with open('html.pickle', 'rb') as f:\n",
    "        html_name_list = pickle.load(f)\n",
    "    for path in html_name_list:\n",
    "        path = os.path.join('C:/Users/champ/Desktop/blog/likecoin/rgib37190.github.io-gh-pages', path)\n",
    "        os.remove(path)"
   ]
  },
  {
   "cell_type": "code",
   "execution_count": null,
   "metadata": {},
   "outputs": [],
   "source": []
  }
 ],
 "metadata": {
  "kernelspec": {
   "display_name": "Python 3",
   "language": "python",
   "name": "python3"
  },
  "language_info": {
   "codemirror_mode": {
    "name": "ipython",
    "version": 3
   },
   "file_extension": ".py",
   "mimetype": "text/x-python",
   "name": "python",
   "nbconvert_exporter": "python",
   "pygments_lexer": "ipython3",
   "version": "3.7.3"
  }
 },
 "nbformat": 4,
 "nbformat_minor": 2
}
