{
 "cells": [
  {
   "cell_type": "code",
   "execution_count": 16,
   "metadata": {
    "ExecuteTime": {
     "end_time": "2021-03-25T06:22:55.223185Z",
     "start_time": "2021-03-25T06:22:55.216386Z"
    }
   },
   "outputs": [],
   "source": [
    "def output_html(number):\n",
    "    for i in range(number):\n",
    "        with open(\"demo_{}.html\".format(i),'w') as f:\n",
    "            message = \"\"\"\n",
    "            <html>\n",
    "            <head></head>\n",
    "            <body>\n",
    "            <p>Hello,World!</p>\n",
    "            <p>demo</p>\n",
    "            </body>\n",
    "            </html>\"\"\"\n",
    "            f.write(message)\n",
    "            f.close()"
   ]
  },
  {
   "cell_type": "code",
   "execution_count": 14,
   "metadata": {
    "ExecuteTime": {
     "end_time": "2021-03-25T06:21:59.758133Z",
     "start_time": "2021-03-25T06:21:59.752860Z"
    }
   },
   "outputs": [],
   "source": [
    "def output_linkcoin(number):\n",
    "    with open('total.html', 'w') as f:\n",
    "        for i in range(number):\n",
    "            connect_html = \"https://likecoin-2.github.io/demo_{}.html\".format(i)\n",
    "            embed_id = \"likecoin{}\".format(i)\n",
    "            likecoin_embed_link = \"<div> <iframe scrolling='no' frameborder='0' id = 'likecoin' style='width:100%; max-width:100px; height:100px; margin:auto; overflow:hidden; display:block; float:left;' src='https://button.like.co/in/embed/champion516615/button?referrer={}' ></iframe> <div></div> </div>\".format(connect_html)\n",
    "            f.write(html)\n",
    "            f.write('\\n')"
   ]
  },
  {
   "cell_type": "code",
   "execution_count": 19,
   "metadata": {
    "ExecuteTime": {
     "end_time": "2021-03-25T06:26:33.896783Z",
     "start_time": "2021-03-25T06:26:33.800351Z"
    }
   },
   "outputs": [],
   "source": [
    "output_html(100)"
   ]
  },
  {
   "cell_type": "code",
   "execution_count": 20,
   "metadata": {
    "ExecuteTime": {
     "end_time": "2021-03-25T06:26:36.597849Z",
     "start_time": "2021-03-25T06:26:36.585965Z"
    }
   },
   "outputs": [],
   "source": [
    "output_linkcoin(100)"
   ]
  },
  {
   "cell_type": "code",
   "execution_count": null,
   "metadata": {},
   "outputs": [],
   "source": []
  }
 ],
 "metadata": {
  "kernelspec": {
   "display_name": "Python 3",
   "language": "python",
   "name": "python3"
  },
  "language_info": {
   "codemirror_mode": {
    "name": "ipython",
    "version": 3
   },
   "file_extension": ".py",
   "mimetype": "text/x-python",
   "name": "python",
   "nbconvert_exporter": "python",
   "pygments_lexer": "ipython3",
   "version": "3.7.3"
  }
 },
 "nbformat": 4,
 "nbformat_minor": 2
}
