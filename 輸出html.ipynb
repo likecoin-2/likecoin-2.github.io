{
 "cells": [
  {
   "cell_type": "code",
   "execution_count": 13,
   "metadata": {
    "ExecuteTime": {
     "end_time": "2021-03-25T06:21:59.364052Z",
     "start_time": "2021-03-25T06:21:59.353070Z"
    }
   },
   "outputs": [],
   "source": [
    "def output_html(number):\n",
    "    for i in range(number):\n",
    "        f = open(\"demo_{}.html\".format(i),'w')\n",
    "        message = \"\"\"\n",
    "        <html>\n",
    "        <head></head>\n",
    "        <body>\n",
    "        <p>Hello,World!</p>\n",
    "        <p>demo</p>\n",
    "        </body>\n",
    "        </html>\"\"\"\n",
    "        f.write(message)\n",
    "        f.close()"
   ]
  },
  {
   "cell_type": "code",
   "execution_count": 14,
   "metadata": {
    "ExecuteTime": {
     "end_time": "2021-03-25T06:21:59.758133Z",
     "start_time": "2021-03-25T06:21:59.752860Z"
    }
   },
   "outputs": [],
   "source": [
    "def output_linkcoin(number):\n",
    "    with open('total.html', 'w') as f:\n",
    "        for i in range(number):\n",
    "            connect_html = \"https://likecoin-2.github.io/demo_{}.html\".format(i)\n",
    "            likecoin_embed_link = \"<div> <iframe scrolling='no' frameborder='0' id = 'likecoin' style='width:100%; max-width:100px; height:100px; margin:auto; overflow:hidden; display:block; float:left;' src='https://button.like.co/in/embed/champion516615/button?referrer={}' ></iframe> <div></div> </div>\".format(connect_html)\n",
    "            f.write(html)\n",
    "            f.write('\\n')"
   ]
  },
  {
   "cell_type": "code",
   "execution_count": 15,
   "metadata": {
    "ExecuteTime": {
     "end_time": "2021-03-25T06:22:03.404811Z",
     "start_time": "2021-03-25T06:22:03.380342Z"
    }
   },
   "outputs": [],
   "source": [
    "output_html(10)"
   ]
  },
  {
   "cell_type": "code",
   "execution_count": null,
   "metadata": {},
   "outputs": [],
   "source": []
  }
 ],
 "metadata": {
  "kernelspec": {
   "display_name": "Python 3",
   "language": "python",
   "name": "python3"
  },
  "language_info": {
   "codemirror_mode": {
    "name": "ipython",
    "version": 3
   },
   "file_extension": ".py",
   "mimetype": "text/x-python",
   "name": "python",
   "nbconvert_exporter": "python",
   "pygments_lexer": "ipython3",
   "version": "3.7.3"
  }
 },
 "nbformat": 4,
 "nbformat_minor": 2
}
